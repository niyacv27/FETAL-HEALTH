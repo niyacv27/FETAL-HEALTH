{
  "nbformat": 4,
  "nbformat_minor": 0,
  "metadata": {
    "colab": {
      "provenance": []
    },
    "kernelspec": {
      "name": "python3",
      "display_name": "Python 3"
    },
    "language_info": {
      "name": "python"
    }
  },
  "cells": [
    {
      "cell_type": "code",
      "execution_count": 53,
      "metadata": {
        "id": "QXBdN2qdGVU_"
      },
      "outputs": [],
      "source": [
        "import numpy as np\n",
        "import pandas as pd\n",
        "import matplotlib.pyplot as plt\n",
        "import seaborn as sns\n",
        "from collections import Counter\n",
        "from imblearn.over_sampling import SMOTE\n",
        "from sklearn.model_selection import train_test_split\n",
        "from sklearn.preprocessing import StandardScaler, OneHotEncoder\n",
        "from sklearn.metrics import accuracy_score, classification_report, confusion_matrix, log_loss"
      ]
    },
    {
      "cell_type": "code",
      "source": [
        "df = pd.read_csv(\"fetal_health.csv\")\n",
        "X = df.iloc[:, :-1].to_numpy()\n",
        "y = df.iloc[:, -1].to_numpy().astype(int)\n"
      ],
      "metadata": {
        "id": "HMm5c7CZGgHC"
      },
      "execution_count": 54,
      "outputs": []
    },
    {
      "cell_type": "code",
      "source": [
        "print(\"Original Class Distribution:\", Counter(y))\n",
        "\n",
        "\n",
        "smote = SMOTE(random_state=42)\n",
        "X_resampled, y_resampled = smote.fit_resample(X, y)\n",
        "\n",
        "\n",
        "y_resampled = y_resampled.astype(int)\n",
        "\n",
        "\n",
        "print(\"After SMOTE Class Distribution:\", Counter(y_resampled))\n"
      ],
      "metadata": {
        "colab": {
          "base_uri": "https://localhost:8080/"
        },
        "id": "oDqdvyRJGgJ6",
        "outputId": "257916b0-0101-4793-9f63-7e4f926734ab"
      },
      "execution_count": 55,
      "outputs": [
        {
          "output_type": "stream",
          "name": "stdout",
          "text": [
            "Original Class Distribution: Counter({1: 1655, 2: 295, 3: 176})\n",
            "After SMOTE Class Distribution: Counter({2: 1655, 1: 1655, 3: 1655})\n"
          ]
        }
      ]
    },
    {
      "cell_type": "code",
      "source": [
        "# Split data\n",
        "X_train, X_temp, y_train, y_temp = train_test_split(X_resampled, y_resampled, test_size=0.3, random_state=42)\n",
        "X_val, X_test, y_val, y_test = train_test_split(X_temp, y_temp, test_size=0.5, random_state=42)"
      ],
      "metadata": {
        "id": "EJxzcZF9GgM7"
      },
      "execution_count": 56,
      "outputs": []
    },
    {
      "cell_type": "code",
      "source": [
        "# Standardize features\n",
        "scaler = StandardScaler()\n",
        "X_train_scaled = scaler.fit_transform(X_train)\n",
        "X_val_scaled = scaler.transform(X_val)\n",
        "X_test_scaled = scaler.transform(X_test)"
      ],
      "metadata": {
        "id": "oZs_5CvEGgPk"
      },
      "execution_count": 57,
      "outputs": []
    },
    {
      "cell_type": "code",
      "source": [
        "class ManualKNN:\n",
        "    def __init__(self, k=25):\n",
        "        self.k = k\n",
        "\n",
        "    def fit(self, X, y):\n",
        "        self.X_train = X\n",
        "        self.y_train = y\n",
        "\n",
        "    def predict(self, X):\n",
        "        predictions = []\n",
        "        for x in X:\n",
        "            distances = np.linalg.norm(self.X_train - x, axis=1)\n",
        "            k_neighbors = np.argsort(distances)[:self.k]\n",
        "            labels = [self.y_train[i] for i in k_neighbors]\n",
        "            predictions.append(Counter(labels).most_common(1)[0][0])\n",
        "        return np.array(predictions)\n",
        "\n",
        "    def predict_proba(self, X):\n",
        "        proba = []\n",
        "        for x in X:\n",
        "            distances = np.linalg.norm(self.X_train - x, axis=1)\n",
        "            k_neighbors = np.argsort(distances)[:self.k]\n",
        "            labels = [self.y_train[i] for i in k_neighbors]\n",
        "\n",
        "            # Compute inverse distance weights\n",
        "            weights = 1 / (distances[k_neighbors] + 1e-5)  # Adding small value to avoid division by zero\n",
        "            label_counts = Counter()\n",
        "            for i, label in enumerate(labels):\n",
        "                label_counts[label] += weights[i]  # Assigning weights\n",
        "\n",
        "            total = sum(label_counts.values())\n",
        "\n",
        "            # Normalize counts to get probabilities\n",
        "            probs = {key: value / total for key, value in label_counts.items()}\n",
        "            proba.append([probs.get(cls, 0) for cls in np.unique(self.y_train)])\n",
        "\n",
        "        return np.array(proba)\n"
      ],
      "metadata": {
        "id": "gkM3HSZWGgSC"
      },
      "execution_count": 58,
      "outputs": []
    },
    {
      "cell_type": "code",
      "source": [
        "class Node:\n",
        "    def __init__(self, feature=None, threshold=None, left=None, right=None, value=None):\n",
        "        self.feature = feature\n",
        "        self.threshold = threshold\n",
        "        self.left = left\n",
        "        self.right = right\n",
        "        self.value = value\n",
        "\n",
        "class ManualDecisionTree:\n",
        "    def __init__(self, max_depth=10, min_samples_split=2):\n",
        "        self.max_depth = max_depth\n",
        "        self.min_samples_split = min_samples_split\n",
        "        self.tree = None\n",
        "\n",
        "    def fit(self, X, y):\n",
        "        self.tree = self._build_tree(X, y, depth=0)\n",
        "\n",
        "    def _build_tree(self, X, y, depth):\n",
        "        num_samples, num_features = X.shape\n",
        "        unique_classes = np.unique(y)\n",
        "\n",
        "        if depth >= self.max_depth or len(unique_classes) == 1 or num_samples < self.min_samples_split:\n",
        "            return Node(value=Counter(y).most_common(1)[0][0])\n",
        "\n",
        "        best_feature, best_threshold = self._best_split(X, y)\n",
        "        if best_feature is None:\n",
        "            return Node(value=Counter(y).most_common(1)[0][0])\n",
        "\n",
        "        left_idx = X[:, best_feature] <= best_threshold\n",
        "        right_idx = X[:, best_feature] > best_threshold\n",
        "\n",
        "        left_subtree = self._build_tree(X[left_idx], y[left_idx], depth + 1)\n",
        "        right_subtree = self._build_tree(X[right_idx], y[right_idx], depth + 1)\n",
        "\n",
        "        return Node(feature=best_feature, threshold=best_threshold, left=left_subtree, right=right_subtree)\n",
        "\n",
        "    def _best_split(self, X, y):\n",
        "        best_gain = -1\n",
        "        best_feature, best_threshold = None, None\n",
        "        for feature in range(X.shape[1]):\n",
        "            thresholds = np.unique(X[:, feature])\n",
        "            for threshold in thresholds:\n",
        "                left_idx = X[:, feature] <= threshold\n",
        "                right_idx = X[:, feature] > threshold\n",
        "                if len(y[left_idx]) == 0 or len(y[right_idx]) == 0:\n",
        "                    continue\n",
        "                gain = self._information_gain(y, y[left_idx], y[right_idx])\n",
        "                if gain > best_gain:\n",
        "                    best_gain = gain\n",
        "                    best_feature = feature\n",
        "                    best_threshold = threshold\n",
        "        return best_feature, best_threshold\n",
        "\n",
        "    def _entropy(self, y):\n",
        "        values, counts = np.unique(y, return_counts=True)\n",
        "        probabilities = counts / len(y)\n",
        "        return -np.sum(probabilities * np.log2(probabilities + 1e-9))\n",
        "\n",
        "    def _information_gain(self, y, y_left, y_right):\n",
        "        return self._entropy(y) - (len(y_left) / len(y) * self._entropy(y_left) + len(y_right) / len(y) * self._entropy(y_right))\n",
        "\n",
        "    def predict(self, X):\n",
        "        return np.array([self._predict(x, self.tree) for x in X])\n",
        "\n",
        "    def _predict(self, x, node):\n",
        "        if node.value is not None:\n",
        "            return node.value\n",
        "        return self._predict(x, node.left if x[node.feature] <= node.threshold else node.right)\n"
      ],
      "metadata": {
        "id": "_hU_ORceGgZr"
      },
      "execution_count": 59,
      "outputs": []
    },
    {
      "cell_type": "code",
      "source": [
        "class ManualRandomForest:\n",
        "    def __init__(self, n_trees=100, max_depth=7, min_samples_split=5):\n",
        "        self.n_trees = n_trees\n",
        "        self.trees = [ManualDecisionTree(max_depth, min_samples_split) for _ in range(n_trees)]\n",
        "\n",
        "    def fit(self, X, y):\n",
        "        for tree in self.trees:\n",
        "            idxs = np.random.choice(len(X), len(X), replace=True)\n",
        "            tree.fit(X[idxs], y[idxs])\n",
        "\n",
        "    def predict(self, X):\n",
        "        predictions = np.array([tree.predict(X) for tree in self.trees])\n",
        "        return np.apply_along_axis(lambda x: Counter(x).most_common(1)[0][0], axis=0, arr=predictions)\n",
        "\n",
        "    def predict_proba(self, X):\n",
        "        \"\"\"Compute class probabilities by averaging tree predictions.\"\"\"\n",
        "        predictions = np.array([tree.predict(X) for tree in self.trees])\n",
        "        n_samples = X.shape[0]\n",
        "        unique_classes = np.unique(predictions)  # Get the unique class labels\n",
        "        class_to_index = {cls: i for i, cls in enumerate(unique_classes)}  # Map class labels to indices\n",
        "\n",
        "        proba = np.zeros((n_samples, len(unique_classes)))  # Adjust probability array size\n",
        "\n",
        "        for i in range(n_samples):\n",
        "            class_counts = Counter(predictions[:, i])  # Count votes per class\n",
        "            total_votes = sum(class_counts.values())\n",
        "            for cls, count in class_counts.items():\n",
        "                proba[i, class_to_index[cls]] = count / total_votes  # Map to correct index\n",
        "\n",
        "        return proba\n",
        "\n"
      ],
      "metadata": {
        "id": "0yJxYewqGgch"
      },
      "execution_count": 60,
      "outputs": []
    },
    {
      "cell_type": "code",
      "source": [
        "class ManualGradientBoosting:\n",
        "    def __init__(self, n_estimators=200, learning_rate=0.01):\n",
        "        self.n_estimators = n_estimators\n",
        "        self.learning_rate = learning_rate\n",
        "        self.models = []\n",
        "\n",
        "    def fit(self, X, y):\n",
        "        \"\"\"Fit the gradient boosting model using decision trees.\"\"\"\n",
        "        self.classes_ = np.unique(y)\n",
        "        y_encoded = np.array([np.where(self.classes_ == label)[0][0] for label in y])\n",
        "        residuals = np.zeros((y.shape[0], len(self.classes_)))\n",
        "\n",
        "        for i, class_label in enumerate(self.classes_):\n",
        "            binary_y = (y_encoded == i).astype(float)\n",
        "            tree = ManualDecisionTree(max_depth=15, min_samples_split=2)  # Regularization applied\n",
        "            tree.fit(X, binary_y)\n",
        "            self.models.append(tree)\n",
        "\n",
        "            residuals[:, i] = binary_y - tree.predict(X)  # Compute residuals\n",
        "\n",
        "            # Apply learning rate scaling\n",
        "            residuals[:, i] *= self.learning_rate\n",
        "\n",
        "    def predict(self, X):\n",
        "        \"\"\"Predict the class labels.\"\"\"\n",
        "        proba = self.predict_proba(X)\n",
        "        return self.classes_[np.argmax(proba, axis=1)]\n",
        "\n",
        "    def predict_proba(self, X):\n",
        "        raw_preds = np.zeros((X.shape[0], len(self.classes_)))\n",
        "        for i, tree in enumerate(self.models):\n",
        "            raw_preds[:, i] = tree.predict(X)\n",
        "\n",
        "        exp_preds = np.exp(raw_preds - np.max(raw_preds, axis=1, keepdims=True))\n",
        "        return np.clip(exp_preds / np.sum(exp_preds, axis=1, keepdims=True), 1e-7, 1-1e-7)  # Prevent log(0) errors\n",
        "\n"
      ],
      "metadata": {
        "id": "NNyQlUJom69g"
      },
      "execution_count": 61,
      "outputs": []
    },
    {
      "cell_type": "code",
      "source": [
        "models = {\n",
        "\n",
        "    \"KNN\": ManualKNN(k=25) ,\n",
        "    \"Random Forest\": ManualRandomForest(),\n",
        "    \"Gradient Boosting\": ManualGradientBoosting()\n",
        "\n",
        "}"
      ],
      "metadata": {
        "id": "tbck7I0eHOMC"
      },
      "execution_count": 62,
      "outputs": []
    },
    {
      "cell_type": "code",
      "source": [
        "# One-hot encoding for true labels\n",
        "encoder = OneHotEncoder(sparse_output=False)  # Corrected to avoid deprecated \"sparse=False\"\n",
        "y_train_onehot = encoder.fit_transform(y_train.reshape(-1, 1))\n",
        "y_val_onehot = encoder.transform(y_val.reshape(-1, 1))\n",
        "y_test_onehot = encoder.transform(y_test.reshape(-1, 1))\n",
        "\n",
        "for name, model in models.items():\n",
        "    model.fit(X_train_scaled, y_train)\n",
        "\n",
        "    # Get predicted classes\n",
        "    y_train_pred = model.predict(X_train_scaled)\n",
        "    y_val_pred = model.predict(X_val_scaled)\n",
        "    y_test_pred = model.predict(X_test_scaled)\n",
        "\n",
        "    # Get predicted probabilities (FIXED)\n",
        "    y_train_pred_proba = model.predict_proba(X_train_scaled)\n",
        "    y_val_pred_proba = model.predict_proba(X_val_scaled)\n",
        "    y_test_pred_proba = model.predict_proba(X_test_scaled)\n",
        "\n",
        "    # Accuracy scores\n",
        "    train_acc = accuracy_score(y_train, y_train_pred) * 100  # Convert to percentage\n",
        "    val_acc = accuracy_score(y_val, y_val_pred) * 100\n",
        "    test_acc = accuracy_score(y_test, y_test_pred) * 100\n",
        "\n",
        "    # Log loss calculation (FIXED)\n",
        "    train_loss = log_loss(y_train_onehot, y_train_pred_proba)\n",
        "    val_loss = log_loss(y_val_onehot, y_val_pred_proba)\n",
        "    test_loss = log_loss(y_test_onehot, y_test_pred_proba)\n",
        "\n",
        "    print(f\"\\n{name}\")\n",
        "    print(f\"Train Accuracy: {train_acc:.2f}%\")\n",
        "    print(f\"Validation Accuracy: {val_acc:.2f}%\")\n",
        "    print(f\"Test Accuracy: {test_acc:.2f}%\")\n",
        "    print(f\"Train Loss: {train_loss:.4f}\")\n",
        "    print(f\"Validation Loss: {val_loss:.4f}\")\n",
        "    print(f\"Test Loss: {test_loss:.4f}\")\n",
        "\n",
        "    print(classification_report(y_test, y_test_pred))\n",
        "    cm = confusion_matrix(y_test, y_test_pred)\n",
        "    plt.figure(figsize=(6, 4))\n",
        "    sns.heatmap(cm, annot=True, fmt=\"d\", cmap=\"Blues\", xticklabels=[1, 2, 3], yticklabels=[1, 2, 3])\n",
        "    plt.xlabel(\"Predicted Label\")\n",
        "    plt.ylabel(\"True Label\")\n",
        "    plt.title(f\"Confusion Matrix - {name}\")\n",
        "    plt.show()\n"
      ],
      "metadata": {
        "colab": {
          "base_uri": "https://localhost:8080/",
          "height": 1000
        },
        "id": "lu_cWQEqHOQI",
        "outputId": "ab7953f6-ca5f-41ab-c50e-3ea5d03622c9"
      },
      "execution_count": 63,
      "outputs": [
        {
          "output_type": "stream",
          "name": "stdout",
          "text": [
            "\n",
            "KNN\n",
            "Train Accuracy: 91.94%\n",
            "Validation Accuracy: 90.34%\n",
            "Test Accuracy: 88.46%\n",
            "Train Loss: 0.0004\n",
            "Validation Loss: 0.1682\n",
            "Test Loss: 0.3032\n",
            "              precision    recall  f1-score   support\n",
            "\n",
            "           1       0.99      0.77      0.87       245\n",
            "           2       0.81      0.93      0.87       277\n",
            "           3       0.89      0.95      0.92       223\n",
            "\n",
            "    accuracy                           0.88       745\n",
            "   macro avg       0.90      0.88      0.89       745\n",
            "weighted avg       0.90      0.88      0.88       745\n",
            "\n"
          ]
        },
        {
          "output_type": "display_data",
          "data": {
            "text/plain": [
              "<Figure size 600x400 with 2 Axes>"
            ],
            "image/png": "[encoded data removed]"
          },
          "metadata": {}
        },
        {
          "output_type": "stream",
          "name": "stdout",
          "text": [
            "\n",
            "Random Forest\n",
            "Train Accuracy: 96.78%\n",
            "Validation Accuracy: 96.38%\n",
            "Test Accuracy: 93.69%\n",
            "Train Loss: 0.1235\n",
            "Validation Loss: 0.1908\n",
            "Test Loss: 0.2632\n",
            "              precision    recall  f1-score   support\n",
            "\n",
            "           1       0.94      0.89      0.91       245\n",
            "           2       0.90      0.96      0.93       277\n",
            "           3       0.99      0.96      0.97       223\n",
            "\n",
            "    accuracy                           0.94       745\n",
            "   macro avg       0.94      0.94      0.94       745\n",
            "weighted avg       0.94      0.94      0.94       745\n",
            "\n"
          ]
        },
        {
          "output_type": "display_data",
          "data": {
            "text/plain": [
              "<Figure size 600x400 with 2 Axes>"
            ],
            "image/png": "[encoded data removed]"
          },
          "metadata": {}
        },
        {
          "output_type": "stream",
          "name": "stdout",
          "text": [
            "\n",
            "Gradient Boosting\n",
            "Train Accuracy: 99.86%\n",
            "Validation Accuracy: 96.11%\n",
            "Test Accuracy: 95.30%\n",
            "Train Loss: 0.5522\n",
            "Validation Loss: 0.5852\n",
            "Test Loss: 0.5925\n",
            "              precision    recall  f1-score   support\n",
            "\n",
            "           1       0.92      0.97      0.94       245\n",
            "           2       0.96      0.94      0.95       277\n",
            "           3       1.00      0.95      0.97       223\n",
            "\n",
            "    accuracy                           0.95       745\n",
            "   macro avg       0.96      0.95      0.95       745\n",
            "weighted avg       0.95      0.95      0.95       745\n",
            "\n"
          ]
        },
        {
          "output_type": "display_data",
          "data": {
            "text/plain": [
              "<Figure size 600x400 with 2 Axes>"
            ],
            "image/png": "[encoded data removed]"
          },
          "metadata": {}
        }
      ]
    },
    {
      "cell_type": "code",
      "source": [
        "\n",
        "class VotingEnsemble:\n",
        "    def __init__(self, models, known_classes):\n",
        "        \"\"\"\n",
        "        :param models: Dictionary of trained models\n",
        "        :param known_classes: List of all possible class labels\n",
        "        \"\"\"\n",
        "        self.models = models\n",
        "        self.known_classes = np.array(known_classes)  # Convert to numpy array for indexing\n",
        "\n",
        "    def fit(self, X, y):\n",
        "        \"\"\"Train all models on the dataset.\"\"\"\n",
        "        for model in self.models.values():\n",
        "            model.fit(X, y)\n",
        "\n",
        "    def predict(self, X):\n",
        "        \"\"\"Predict final class labels using majority voting.\"\"\"\n",
        "        predictions = np.array([model.predict(X) for model in self.models.values()])\n",
        "        final_predictions = np.apply_along_axis(lambda x: self.majority_vote(x), axis=0, arr=predictions)\n",
        "        return final_predictions\n",
        "\n",
        "    def predict_proba(self, X):\n",
        "        \"\"\"Averages predicted probabilities from all models.\"\"\"\n",
        "        probs_list = []\n",
        "\n",
        "        for model in self.models.values():\n",
        "            proba = model.predict_proba(X)\n",
        "            if proba.shape[1] != len(self.known_classes):\n",
        "                raise ValueError(f\"Model output shape {proba.shape} does not match expected {len(self.known_classes)} classes\")\n",
        "\n",
        "            probs_list.append(proba)\n",
        "\n",
        "        avg_probs = np.mean(probs_list, axis=0)  # Average probabilities across all models\n",
        "        return avg_probs\n",
        "\n",
        "    def majority_vote(self, predictions):\n",
        "        \"\"\"Returns the most frequent class label among model predictions.\"\"\"\n",
        "        counter = Counter(predictions)\n",
        "        most_common_label, _ = counter.most_common(1)[0]\n",
        "\n",
        "        # Ensure the predicted label is within known classes\n",
        "        if most_common_label in self.known_classes:\n",
        "            return most_common_label\n",
        "        else:\n",
        "            return max(self.known_classes, key=lambda c: counter[c])  # Choose the class with the highest votes among known classes\n",
        "\n",
        "\n",
        "# Initialize Models\n",
        "models = {\n",
        "    \"knn\": ManualKNN(k=25),\n",
        "    \"random_forest\": ManualRandomForest(n_trees=100, max_depth=7, min_samples_split=5),\n",
        "    \"gradient_boosting\": ManualGradientBoosting(n_estimators=200, learning_rate=0.01)\n",
        "}\n",
        "\n",
        "# Define Known Classes\n",
        "known_classes = np.unique(y_train)\n",
        "\n",
        "# Initialize Ensemble Model\n",
        "ensemble_model = VotingEnsemble(models, known_classes)\n",
        "\n",
        "# Train the model\n",
        "ensemble_model.fit(X_train_scaled, y_train)\n",
        "\n",
        "# Predict classes\n",
        "y_train_pred_ensemble = ensemble_model.predict(X_train_scaled)\n",
        "y_val_pred_ensemble = ensemble_model.predict(X_val_scaled)\n",
        "y_test_pred_ensemble = ensemble_model.predict(X_test_scaled)\n",
        "\n",
        "# One-hot encode the true labels for loss calculation\n",
        "from sklearn.preprocessing import LabelBinarizer\n",
        "\n",
        "lb = LabelBinarizer()\n",
        "y_train_onehot = lb.fit_transform(y_train)\n",
        "y_val_onehot = lb.transform(y_val)\n",
        "y_test_onehot = lb.transform(y_test)\n",
        "\n",
        "# Predict probabilities\n",
        "y_train_pred_proba_ensemble = ensemble_model.predict_proba(X_train_scaled)\n",
        "y_val_pred_proba_ensemble = ensemble_model.predict_proba(X_val_scaled)\n",
        "y_test_pred_proba_ensemble = ensemble_model.predict_proba(X_test_scaled)\n",
        "\n",
        "# Compute Accuracy\n",
        "train_acc = accuracy_score(y_train, y_train_pred_ensemble) * 100\n",
        "val_acc = accuracy_score(y_val, y_val_pred_ensemble) * 100\n",
        "test_acc = accuracy_score(y_test, y_test_pred_ensemble) * 100\n",
        "\n",
        "# Compute Log Loss\n",
        "train_loss = log_loss(y_train_onehot, y_train_pred_proba_ensemble)\n",
        "val_loss = log_loss(y_val_onehot, y_val_pred_proba_ensemble)\n",
        "test_loss = log_loss(y_test_onehot, y_test_pred_proba_ensemble)\n",
        "\n",
        "# Print results\n",
        "print(\"\\nVoting Ensemble - Accuracy and Loss:\")\n",
        "print(f\"Train Accuracy: {train_acc:.2f}%\")\n",
        "print(f\"Validation Accuracy: {val_acc:.2f}%\")\n",
        "print(f\"Test Accuracy: {test_acc:.2f}%\")\n",
        "print(f\"Train Loss: {train_loss:.4f}\")\n",
        "print(f\"Validation Loss: {val_loss:.4f}\")\n",
        "print(f\"Test Loss: {test_loss:.4f}\")\n",
        "\n",
        "# Classification Report\n",
        "print(\"\\nClassification Report:\")\n",
        "from sklearn.metrics import classification_report, confusion_matrix\n",
        "print(classification_report(y_test, y_test_pred_ensemble, zero_division=1))\n",
        "\n",
        "# Confusion Matrix\n",
        "plt.figure(figsize=(5, 4))\n",
        "sns.heatmap(confusion_matrix(y_test, y_test_pred_ensemble), annot=True, fmt=\"d\", cmap=\"Blues\", xticklabels=known_classes, yticklabels=known_classes)\n",
        "plt.xlabel(\"Predicted Label\")\n",
        "plt.ylabel(\"True Label\")\n",
        "plt.title(\"Confusion Matrix - Voting Ensemble\")\n",
        "plt.show()\n"
      ],
      "metadata": {
        "colab": {
          "base_uri": "https://localhost:8080/",
          "height": 757
        },
        "id": "kH2T5fn3pWan",
        "outputId": "b260fe7e-86e2-4e9f-bab4-6f8c18945f9b"
      },
      "execution_count": 64,
      "outputs": [
        {
          "output_type": "stream",
          "name": "stdout",
          "text": [
            "\n",
            "Voting Ensemble - Accuracy and Loss:\n",
            "Train Accuracy: 97.87%\n",
            "Validation Accuracy: 96.78%\n",
            "Test Accuracy: 94.77%\n",
            "Train Loss: 0.1759\n",
            "Validation Loss: 0.2470\n",
            "Test Loss: 0.2767\n",
            "\n",
            "Classification Report:\n",
            "              precision    recall  f1-score   support\n",
            "\n",
            "           1       0.96      0.89      0.93       245\n",
            "           2       0.90      0.99      0.94       277\n",
            "           3       1.00      0.96      0.98       223\n",
            "\n",
            "    accuracy                           0.95       745\n",
            "   macro avg       0.95      0.95      0.95       745\n",
            "weighted avg       0.95      0.95      0.95       745\n",
            "\n"
          ]
        },
        {
          "output_type": "display_data",
          "data": {
            "text/plain": [
              "<Figure size 500x400 with 2 Axes>"
            ],
            "image/png": "[encoded data removed]"
          },
          "metadata": {}
        }
      ]
    },
    {
      "cell_type": "code",
      "source": [],
      "metadata": {
        "id": "7D4RiL8-_Kek"
      },
      "execution_count": null,
      "outputs": []
    }
  ]
}