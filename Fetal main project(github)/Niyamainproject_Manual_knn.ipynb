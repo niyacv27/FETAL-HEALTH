{
  "nbformat": 4,
  "nbformat_minor": 0,
  "metadata": {
    "colab": {
      "provenance": []
    },
    "kernelspec": {
      "name": "python3",
      "display_name": "Python 3"
    },
    "language_info": {
      "name": "python"
    }
  },
  "cells": [
    {
      "cell_type": "code",
      "execution_count": 31,
      "metadata": {
        "id": "0w8EzpkcGaDR"
      },
      "outputs": [],
      "source": [
        "import numpy as np\n",
        "import pandas as pd\n",
        "import matplotlib.pyplot as plt\n",
        "import seaborn as sns\n",
        "from collections import Counter\n",
        "from imblearn.over_sampling import SMOTE\n",
        "from sklearn.model_selection import train_test_split\n",
        "from sklearn.preprocessing import MinMaxScaler\n",
        "from sklearn.metrics import accuracy_score, classification_report, confusion_matrix, log_loss"
      ]
    },
    {
      "cell_type": "code",
      "source": [
        "\n",
        "df = pd.read_csv(\"fetal_health.csv\")\n"
      ],
      "metadata": {
        "id": "U9Muby9fGtcw"
      },
      "execution_count": 32,
      "outputs": []
    },
    {
      "cell_type": "code",
      "source": [
        "\n",
        "X = df.iloc[:, :-1].to_numpy()\n",
        "y = df.iloc[:, -1].to_numpy().astype(int)\n"
      ],
      "metadata": {
        "id": "lVr1LhdHGvCH"
      },
      "execution_count": 33,
      "outputs": []
    },
    {
      "cell_type": "code",
      "source": [
        "\n",
        "print(\"Original Class Distribution:\", Counter(y))\n",
        "\n",
        "\n",
        "smote = SMOTE(random_state=42)\n",
        "X_resampled, y_resampled = smote.fit_resample(X, y)\n",
        "\n",
        "\n",
        "y_resampled = y_resampled.astype(int)\n",
        "\n",
        "\n",
        "print(\"After SMOTE Class Distribution:\", Counter(y_resampled))\n"
      ],
      "metadata": {
        "colab": {
          "base_uri": "https://localhost:8080/"
        },
        "id": "KC-vpi5kGw8i",
        "outputId": "f5075ddf-ab45-405d-edf6-8f7c95230982"
      },
      "execution_count": 34,
      "outputs": [
        {
          "output_type": "stream",
          "name": "stdout",
          "text": [
            "Original Class Distribution: Counter({1: 1655, 2: 295, 3: 176})\n",
            "After SMOTE Class Distribution: Counter({2: 1655, 1: 1655, 3: 1655})\n"
          ]
        }
      ]
    },
    {
      "cell_type": "code",
      "source": [
        "X_train_full, X_test, y_train_full, y_test = train_test_split(X_resampled, y_resampled, test_size=0.2, random_state=42)\n"
      ],
      "metadata": {
        "id": "bO9Ct7FcG0HP"
      },
      "execution_count": 35,
      "outputs": []
    },
    {
      "cell_type": "code",
      "source": [
        "X_train, X_val, y_train, y_val = train_test_split(X_train_full, y_train_full, test_size=0.2, random_state=42)\n"
      ],
      "metadata": {
        "id": "DIiCugtDG2uY"
      },
      "execution_count": 36,
      "outputs": []
    },
    {
      "cell_type": "code",
      "source": [
        "scaler = MinMaxScaler()\n",
        "X_train_scaled = scaler.fit_transform(X_train)\n",
        "X_val_scaled = scaler.transform(X_val)\n",
        "X_test_scaled = scaler.transform(X_test)"
      ],
      "metadata": {
        "id": "gzyg7wWLG41V"
      },
      "execution_count": 37,
      "outputs": []
    },
    {
      "cell_type": "code",
      "source": [
        "import numpy as np\n",
        "import matplotlib.pyplot as plt\n",
        "from collections import Counter\n",
        "from sklearn.metrics import log_loss\n",
        "\n",
        "class ManualKNN:\n",
        "    def __init__(self, k=7):\n",
        "        self.k = k\n",
        "        self.classes_ = None\n",
        "\n",
        "    def fit(self, X, y):\n",
        "        \"\"\"Stores training data and class labels.\"\"\"\n",
        "        self.X_train = X\n",
        "        self.y_train = y\n",
        "        self.classes_ = sorted(set(y))  # Ensure consistent class order\n",
        "\n",
        "    def _compute_distance(self, x1, x2):\n",
        "        \"\"\"Compute Euclidean distance between two points.\"\"\"\n",
        "        return np.linalg.norm(x1 - x2)\n",
        "\n",
        "    def predict(self, X):\n",
        "        \"\"\"Predict class labels for given X based on majority voting.\"\"\"\n",
        "        probabilities = self.predict_proba(X)\n",
        "        return np.array([self.classes_[np.argmax(probs)] for probs in probabilities])  # Select class with max probability\n",
        "\n",
        "    def predict_proba(self, X):\n",
        "        \"\"\"Predict class probabilities using distance-weighted voting.\"\"\"\n",
        "        probabilities = []\n",
        "        for x in X:\n",
        "            distances = np.array([self._compute_distance(x, x_train) for x_train in self.X_train])\n",
        "            k_neighbors = np.argsort(distances)[:self.k]  # Get indices of k-nearest neighbors\n",
        "            labels = [self.y_train[i] for i in k_neighbors]\n",
        "\n",
        "            # **Weighted Probabilities**\n",
        "            weights = 1 / (distances[k_neighbors] + 1e-6)  # Reduce epsilon to avoid instability\n",
        "            label_weights = Counter()\n",
        "            for label, weight in zip(labels, weights):\n",
        "                label_weights[label] += weight\n",
        "\n",
        "            total_weight = sum(label_weights.values())\n",
        "            prob_distribution = {label: weight / total_weight for label, weight in label_weights.items()}\n",
        "\n",
        "            # Convert to correct class order\n",
        "            prob_vector = [prob_distribution.get(cls, 0) for cls in self.classes_]\n",
        "            probabilities.append(prob_vector)\n",
        "\n",
        "        return np.array(probabilities)\n",
        "\n",
        "# Function to select best k using validation loss\n",
        "def find_best_k(X_train, y_train, X_val, y_val):\n",
        "    best_k = None\n",
        "    best_val_loss = float(\"inf\")\n",
        "    k_values = list(range(3, 35, 2))  # Use only **odd values** to avoid tie issues\n",
        "\n",
        "    validation_losses = []\n",
        "    for k in k_values:\n",
        "        knn = ManualKNN(k=k)\n",
        "        knn.fit(X_train, y_train)\n",
        "\n",
        "        y_val_pred = knn.predict_proba(X_val)\n",
        "        val_loss = log_loss(y_val, y_val_pred)\n",
        "        validation_losses.append(val_loss)\n",
        "\n",
        "        print(f\"k={k} -> Validation Loss: {val_loss:.4f}\")\n",
        "\n",
        "        if val_loss < best_val_loss:\n",
        "            best_val_loss = val_loss\n",
        "            best_k = k\n",
        "\n",
        "    # **Plot k vs Validation Loss**\n",
        "    plt.figure(figsize=(8, 4))\n",
        "    plt.plot(k_values, validation_losses, marker='o', linestyle='dashed', color='b', label=\"Validation Loss\")\n",
        "    plt.xlabel(\"Number of Neighbors (k)\")\n",
        "    plt.ylabel(\"Validation Loss\")\n",
        "    plt.title(\"Choosing the Best k for KNN\")\n",
        "    plt.legend()\n",
        "    plt.grid()\n",
        "    plt.show()\n",
        "\n",
        "    print(f\"✅ Best k Found: {best_k}\")\n",
        "    return best_k\n",
        "\n",
        "# Find best k\n",
        "best_k = find_best_k(X_train_scaled, y_train, X_val_scaled, y_val)\n"
      ],
      "metadata": {
        "colab": {
          "base_uri": "https://localhost:8080/",
          "height": 705
        },
        "id": "7qX57NB1G62w",
        "outputId": "6e6bbe67-96f0-488b-b46c-c62507d708a7"
      },
      "execution_count": 38,
      "outputs": [
        {
          "output_type": "stream",
          "name": "stdout",
          "text": [
            "k=3 -> Validation Loss: 0.6243\n",
            "k=5 -> Validation Loss: 0.4645\n",
            "k=7 -> Validation Loss: 0.3457\n",
            "k=9 -> Validation Loss: 0.2725\n",
            "k=11 -> Validation Loss: 0.2373\n",
            "k=13 -> Validation Loss: 0.2446\n",
            "k=15 -> Validation Loss: 0.2093\n",
            "k=17 -> Validation Loss: 0.2155\n",
            "k=19 -> Validation Loss: 0.2218\n",
            "k=21 -> Validation Loss: 0.2266\n",
            "k=23 -> Validation Loss: 0.2314\n",
            "k=25 -> Validation Loss: 0.2380\n",
            "k=27 -> Validation Loss: 0.2432\n",
            "k=29 -> Validation Loss: 0.2493\n",
            "k=31 -> Validation Loss: 0.1737\n",
            "k=33 -> Validation Loss: 0.1768\n"
          ]
        },
        {
          "output_type": "display_data",
          "data": {
            "text/plain": [
              "<Figure size 800x400 with 1 Axes>"
            ],
            "image/png": "[encoded data removed]"
          },
          "metadata": {}
        },
        {
          "output_type": "stream",
          "name": "stdout",
          "text": [
            "✅ Best k Found: 31\n"
          ]
        }
      ]
    },
    {
      "cell_type": "code",
      "source": [
        "\n",
        "models = {\n",
        "\n",
        "    \"KNN\": ManualKNN(k=best_k)\n",
        "\n",
        "}\n"
      ],
      "metadata": {
        "id": "PLar2_KLHT0T"
      },
      "execution_count": 39,
      "outputs": []
    },
    {
      "cell_type": "code",
      "source": [
        "# Store predictions\n",
        "predictions = {}\n",
        "\n",
        "# Train and evaluate models\n",
        "for name, model in models.items():\n",
        "    # Train the model\n",
        "    model.fit(X_train_scaled, y_train)\n",
        "\n",
        "    # Predict on Training Set\n",
        "    y_train_pred = model.predict(X_train_scaled)\n",
        "    train_acc = accuracy_score(y_train, y_train_pred) * 100\n",
        "\n",
        "    # Predict on Validation Set\n",
        "    y_val_pred = model.predict_proba(X_val_scaled)  # Use scaled validation data\n",
        "    val_loss = log_loss(y_val, y_val_pred)\n",
        "    y_val_class_pred = model.predict(X_val_scaled)\n",
        "    val_acc = accuracy_score(y_val, y_val_class_pred) * 100  # Validation accuracy\n",
        "\n",
        "    # Predict on Test Set\n",
        "    y_test_pred = model.predict_proba(X_test_scaled)  # Use scaled test data\n",
        "    test_loss = log_loss(y_test, y_test_pred)\n",
        "    y_test_class_pred = model.predict(X_test_scaled)\n",
        "    test_acc = accuracy_score(y_test, y_test_class_pred) * 100  # Test accuracy\n",
        "\n",
        "    predictions[name] = y_test_class_pred\n",
        "\n",
        "    # Print Metrics\n",
        "    print(f\"\\n{name}\")\n",
        "    print(f\"Train Accuracy: {train_acc:.2f}%\")\n",
        "    print(f\"Validation Accuracy: {val_acc:.2f}%\")\n",
        "    print(f\"Test Accuracy: {test_acc:.2f}%\")\n",
        "    print(f\"Validation Loss (Log Loss): {val_loss:.4f}\")\n",
        "    print(f\"Test Loss (Log Loss): {test_loss:.4f}\")\n",
        "    print(classification_report(y_test, y_test_class_pred))\n",
        "\n",
        "    # Confusion Matrix\n",
        "    cm = confusion_matrix(y_test, y_test_class_pred)\n",
        "    plt.figure(figsize=(6, 4))\n",
        "    sns.heatmap(cm, annot=True, fmt=\"d\", cmap=\"Blues\", xticklabels=[1, 2, 3], yticklabels=[1, 2, 3])\n",
        "    plt.xlabel(\"Predicted Label\")\n",
        "    plt.ylabel(\"True Label\")\n",
        "    plt.title(f\"Confusion Matrix - {name}\")\n",
        "    plt.show()\n"
      ],
      "metadata": {
        "colab": {
          "base_uri": "https://localhost:8080/",
          "height": 705
        },
        "id": "y__nqODvHe8X",
        "outputId": "76823252-060b-448b-9ced-7c2129c53c0b"
      },
      "execution_count": 40,
      "outputs": [
        {
          "output_type": "stream",
          "name": "stdout",
          "text": [
            "\n",
            "KNN\n",
            "Train Accuracy: 99.97%\n",
            "Validation Accuracy: 93.21%\n",
            "Test Accuracy: 90.94%\n",
            "Validation Loss (Log Loss): 0.1737\n",
            "Test Loss (Log Loss): 0.2525\n",
            "              precision    recall  f1-score   support\n",
            "\n",
            "           1       0.98      0.82      0.89       353\n",
            "           2       0.82      0.97      0.88       317\n",
            "           3       0.96      0.95      0.96       323\n",
            "\n",
            "    accuracy                           0.91       993\n",
            "   macro avg       0.92      0.91      0.91       993\n",
            "weighted avg       0.92      0.91      0.91       993\n",
            "\n"
          ]
        },
        {
          "output_type": "display_data",
          "data": {
            "text/plain": [
              "<Figure size 600x400 with 2 Axes>"
            ],
            "image/png": "[encoded data removed]"
          },
          "metadata": {}
        }
      ]
    }
  ]
}